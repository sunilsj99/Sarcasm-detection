{
 "cells": [
  {
   "cell_type": "code",
   "execution_count": 1,
   "metadata": {},
   "outputs": [],
   "source": [
    "import numpy as np\n",
    "import pandas as pd\n",
    "import matplotlib.pyplot as plt\n",
    "from tqdm import tqdm\n",
    "%matplotlib inline"
   ]
  },
  {
   "cell_type": "code",
   "execution_count": 2,
   "metadata": {},
   "outputs": [],
   "source": [
    "import spacy\n",
    "nlp = spacy.load('en')"
   ]
  },
  {
   "cell_type": "code",
   "execution_count": 54,
   "metadata": {},
   "outputs": [],
   "source": [
    "df1 = pd.read_json('Sarcasm_Headlines_Dataset.json', lines=True)"
   ]
  },
  {
   "cell_type": "code",
   "execution_count": 55,
   "metadata": {},
   "outputs": [
    {
     "data": {
      "text/html": [
       "<div>\n",
       "<style scoped>\n",
       "    .dataframe tbody tr th:only-of-type {\n",
       "        vertical-align: middle;\n",
       "    }\n",
       "\n",
       "    .dataframe tbody tr th {\n",
       "        vertical-align: top;\n",
       "    }\n",
       "\n",
       "    .dataframe thead th {\n",
       "        text-align: right;\n",
       "    }\n",
       "</style>\n",
       "<table border=\"1\" class=\"dataframe\">\n",
       "  <thead>\n",
       "    <tr style=\"text-align: right;\">\n",
       "      <th></th>\n",
       "      <th>article_link</th>\n",
       "      <th>headline</th>\n",
       "      <th>is_sarcastic</th>\n",
       "    </tr>\n",
       "  </thead>\n",
       "  <tbody>\n",
       "    <tr>\n",
       "      <th>0</th>\n",
       "      <td>https://www.huffingtonpost.com/entry/versace-b...</td>\n",
       "      <td>former versace store clerk sues over secret 'b...</td>\n",
       "      <td>0</td>\n",
       "    </tr>\n",
       "    <tr>\n",
       "      <th>1</th>\n",
       "      <td>https://www.huffingtonpost.com/entry/roseanne-...</td>\n",
       "      <td>the 'roseanne' revival catches up to our thorn...</td>\n",
       "      <td>0</td>\n",
       "    </tr>\n",
       "    <tr>\n",
       "      <th>2</th>\n",
       "      <td>https://local.theonion.com/mom-starting-to-fea...</td>\n",
       "      <td>mom starting to fear son's web series closest ...</td>\n",
       "      <td>1</td>\n",
       "    </tr>\n",
       "    <tr>\n",
       "      <th>3</th>\n",
       "      <td>https://politics.theonion.com/boehner-just-wan...</td>\n",
       "      <td>boehner just wants wife to listen, not come up...</td>\n",
       "      <td>1</td>\n",
       "    </tr>\n",
       "    <tr>\n",
       "      <th>4</th>\n",
       "      <td>https://www.huffingtonpost.com/entry/jk-rowlin...</td>\n",
       "      <td>j.k. rowling wishes snape happy birthday in th...</td>\n",
       "      <td>0</td>\n",
       "    </tr>\n",
       "  </tbody>\n",
       "</table>\n",
       "</div>"
      ],
      "text/plain": [
       "                                        article_link  \\\n",
       "0  https://www.huffingtonpost.com/entry/versace-b...   \n",
       "1  https://www.huffingtonpost.com/entry/roseanne-...   \n",
       "2  https://local.theonion.com/mom-starting-to-fea...   \n",
       "3  https://politics.theonion.com/boehner-just-wan...   \n",
       "4  https://www.huffingtonpost.com/entry/jk-rowlin...   \n",
       "\n",
       "                                            headline  is_sarcastic  \n",
       "0  former versace store clerk sues over secret 'b...             0  \n",
       "1  the 'roseanne' revival catches up to our thorn...             0  \n",
       "2  mom starting to fear son's web series closest ...             1  \n",
       "3  boehner just wants wife to listen, not come up...             1  \n",
       "4  j.k. rowling wishes snape happy birthday in th...             0  "
      ]
     },
     "execution_count": 55,
     "metadata": {},
     "output_type": "execute_result"
    }
   ],
   "source": [
    "df1.head()"
   ]
  },
  {
   "cell_type": "code",
   "execution_count": 56,
   "metadata": {},
   "outputs": [],
   "source": [
    "df2 = pd.read_json('Sarcasm_Headlines_Dataset_v2.json', lines=True)"
   ]
  },
  {
   "cell_type": "code",
   "execution_count": 57,
   "metadata": {},
   "outputs": [
    {
     "data": {
      "text/html": [
       "<div>\n",
       "<style scoped>\n",
       "    .dataframe tbody tr th:only-of-type {\n",
       "        vertical-align: middle;\n",
       "    }\n",
       "\n",
       "    .dataframe tbody tr th {\n",
       "        vertical-align: top;\n",
       "    }\n",
       "\n",
       "    .dataframe thead th {\n",
       "        text-align: right;\n",
       "    }\n",
       "</style>\n",
       "<table border=\"1\" class=\"dataframe\">\n",
       "  <thead>\n",
       "    <tr style=\"text-align: right;\">\n",
       "      <th></th>\n",
       "      <th>article_link</th>\n",
       "      <th>headline</th>\n",
       "      <th>is_sarcastic</th>\n",
       "    </tr>\n",
       "  </thead>\n",
       "  <tbody>\n",
       "    <tr>\n",
       "      <th>0</th>\n",
       "      <td>https://www.theonion.com/thirtysomething-scien...</td>\n",
       "      <td>thirtysomething scientists unveil doomsday clo...</td>\n",
       "      <td>1</td>\n",
       "    </tr>\n",
       "    <tr>\n",
       "      <th>1</th>\n",
       "      <td>https://www.huffingtonpost.com/entry/donna-edw...</td>\n",
       "      <td>dem rep. totally nails why congress is falling...</td>\n",
       "      <td>0</td>\n",
       "    </tr>\n",
       "    <tr>\n",
       "      <th>2</th>\n",
       "      <td>https://www.huffingtonpost.com/entry/eat-your-...</td>\n",
       "      <td>eat your veggies: 9 deliciously different recipes</td>\n",
       "      <td>0</td>\n",
       "    </tr>\n",
       "    <tr>\n",
       "      <th>3</th>\n",
       "      <td>https://local.theonion.com/inclement-weather-p...</td>\n",
       "      <td>inclement weather prevents liar from getting t...</td>\n",
       "      <td>1</td>\n",
       "    </tr>\n",
       "    <tr>\n",
       "      <th>4</th>\n",
       "      <td>https://www.theonion.com/mother-comes-pretty-c...</td>\n",
       "      <td>mother comes pretty close to using word 'strea...</td>\n",
       "      <td>1</td>\n",
       "    </tr>\n",
       "  </tbody>\n",
       "</table>\n",
       "</div>"
      ],
      "text/plain": [
       "                                        article_link  \\\n",
       "0  https://www.theonion.com/thirtysomething-scien...   \n",
       "1  https://www.huffingtonpost.com/entry/donna-edw...   \n",
       "2  https://www.huffingtonpost.com/entry/eat-your-...   \n",
       "3  https://local.theonion.com/inclement-weather-p...   \n",
       "4  https://www.theonion.com/mother-comes-pretty-c...   \n",
       "\n",
       "                                            headline  is_sarcastic  \n",
       "0  thirtysomething scientists unveil doomsday clo...             1  \n",
       "1  dem rep. totally nails why congress is falling...             0  \n",
       "2  eat your veggies: 9 deliciously different recipes             0  \n",
       "3  inclement weather prevents liar from getting t...             1  \n",
       "4  mother comes pretty close to using word 'strea...             1  "
      ]
     },
     "execution_count": 57,
     "metadata": {},
     "output_type": "execute_result"
    }
   ],
   "source": [
    "df2.head()"
   ]
  },
  {
   "cell_type": "code",
   "execution_count": 58,
   "metadata": {},
   "outputs": [
    {
     "data": {
      "text/plain": [
       "((26709, 3), (28619, 3))"
      ]
     },
     "execution_count": 58,
     "metadata": {},
     "output_type": "execute_result"
    }
   ],
   "source": [
    "df1.shape, df2.shape"
   ]
  },
  {
   "cell_type": "code",
   "execution_count": 59,
   "metadata": {},
   "outputs": [],
   "source": [
    "df = pd.concat([df1, df2])"
   ]
  },
  {
   "cell_type": "code",
   "execution_count": 60,
   "metadata": {},
   "outputs": [
    {
     "data": {
      "text/plain": [
       "(55328, 3)"
      ]
     },
     "execution_count": 60,
     "metadata": {},
     "output_type": "execute_result"
    }
   ],
   "source": [
    "df.shape"
   ]
  },
  {
   "cell_type": "code",
   "execution_count": 61,
   "metadata": {},
   "outputs": [],
   "source": [
    "df = df.reset_index()"
   ]
  },
  {
   "cell_type": "code",
   "execution_count": 62,
   "metadata": {},
   "outputs": [
    {
     "data": {
      "text/html": [
       "<div>\n",
       "<style scoped>\n",
       "    .dataframe tbody tr th:only-of-type {\n",
       "        vertical-align: middle;\n",
       "    }\n",
       "\n",
       "    .dataframe tbody tr th {\n",
       "        vertical-align: top;\n",
       "    }\n",
       "\n",
       "    .dataframe thead th {\n",
       "        text-align: right;\n",
       "    }\n",
       "</style>\n",
       "<table border=\"1\" class=\"dataframe\">\n",
       "  <thead>\n",
       "    <tr style=\"text-align: right;\">\n",
       "      <th></th>\n",
       "      <th>index</th>\n",
       "      <th>article_link</th>\n",
       "      <th>headline</th>\n",
       "      <th>is_sarcastic</th>\n",
       "    </tr>\n",
       "  </thead>\n",
       "  <tbody>\n",
       "    <tr>\n",
       "      <th>0</th>\n",
       "      <td>0</td>\n",
       "      <td>https://www.huffingtonpost.com/entry/versace-b...</td>\n",
       "      <td>former versace store clerk sues over secret 'b...</td>\n",
       "      <td>0</td>\n",
       "    </tr>\n",
       "    <tr>\n",
       "      <th>1</th>\n",
       "      <td>1</td>\n",
       "      <td>https://www.huffingtonpost.com/entry/roseanne-...</td>\n",
       "      <td>the 'roseanne' revival catches up to our thorn...</td>\n",
       "      <td>0</td>\n",
       "    </tr>\n",
       "    <tr>\n",
       "      <th>2</th>\n",
       "      <td>2</td>\n",
       "      <td>https://local.theonion.com/mom-starting-to-fea...</td>\n",
       "      <td>mom starting to fear son's web series closest ...</td>\n",
       "      <td>1</td>\n",
       "    </tr>\n",
       "    <tr>\n",
       "      <th>3</th>\n",
       "      <td>3</td>\n",
       "      <td>https://politics.theonion.com/boehner-just-wan...</td>\n",
       "      <td>boehner just wants wife to listen, not come up...</td>\n",
       "      <td>1</td>\n",
       "    </tr>\n",
       "    <tr>\n",
       "      <th>4</th>\n",
       "      <td>4</td>\n",
       "      <td>https://www.huffingtonpost.com/entry/jk-rowlin...</td>\n",
       "      <td>j.k. rowling wishes snape happy birthday in th...</td>\n",
       "      <td>0</td>\n",
       "    </tr>\n",
       "    <tr>\n",
       "      <th>5</th>\n",
       "      <td>5</td>\n",
       "      <td>https://www.huffingtonpost.com/entry/advancing...</td>\n",
       "      <td>advancing the world's women</td>\n",
       "      <td>0</td>\n",
       "    </tr>\n",
       "    <tr>\n",
       "      <th>6</th>\n",
       "      <td>6</td>\n",
       "      <td>https://www.huffingtonpost.com/entry/how-meat-...</td>\n",
       "      <td>the fascinating case for eating lab-grown meat</td>\n",
       "      <td>0</td>\n",
       "    </tr>\n",
       "    <tr>\n",
       "      <th>7</th>\n",
       "      <td>7</td>\n",
       "      <td>https://www.huffingtonpost.com/entry/boxed-col...</td>\n",
       "      <td>this ceo will send your kids to school, if you...</td>\n",
       "      <td>0</td>\n",
       "    </tr>\n",
       "    <tr>\n",
       "      <th>8</th>\n",
       "      <td>8</td>\n",
       "      <td>https://politics.theonion.com/top-snake-handle...</td>\n",
       "      <td>top snake handler leaves sinking huckabee camp...</td>\n",
       "      <td>1</td>\n",
       "    </tr>\n",
       "    <tr>\n",
       "      <th>9</th>\n",
       "      <td>9</td>\n",
       "      <td>https://www.huffingtonpost.com/entry/fridays-m...</td>\n",
       "      <td>friday's morning email: inside trump's presser...</td>\n",
       "      <td>0</td>\n",
       "    </tr>\n",
       "  </tbody>\n",
       "</table>\n",
       "</div>"
      ],
      "text/plain": [
       "   index                                       article_link  \\\n",
       "0      0  https://www.huffingtonpost.com/entry/versace-b...   \n",
       "1      1  https://www.huffingtonpost.com/entry/roseanne-...   \n",
       "2      2  https://local.theonion.com/mom-starting-to-fea...   \n",
       "3      3  https://politics.theonion.com/boehner-just-wan...   \n",
       "4      4  https://www.huffingtonpost.com/entry/jk-rowlin...   \n",
       "5      5  https://www.huffingtonpost.com/entry/advancing...   \n",
       "6      6  https://www.huffingtonpost.com/entry/how-meat-...   \n",
       "7      7  https://www.huffingtonpost.com/entry/boxed-col...   \n",
       "8      8  https://politics.theonion.com/top-snake-handle...   \n",
       "9      9  https://www.huffingtonpost.com/entry/fridays-m...   \n",
       "\n",
       "                                            headline  is_sarcastic  \n",
       "0  former versace store clerk sues over secret 'b...             0  \n",
       "1  the 'roseanne' revival catches up to our thorn...             0  \n",
       "2  mom starting to fear son's web series closest ...             1  \n",
       "3  boehner just wants wife to listen, not come up...             1  \n",
       "4  j.k. rowling wishes snape happy birthday in th...             0  \n",
       "5                        advancing the world's women             0  \n",
       "6     the fascinating case for eating lab-grown meat             0  \n",
       "7  this ceo will send your kids to school, if you...             0  \n",
       "8  top snake handler leaves sinking huckabee camp...             1  \n",
       "9  friday's morning email: inside trump's presser...             0  "
      ]
     },
     "execution_count": 62,
     "metadata": {},
     "output_type": "execute_result"
    }
   ],
   "source": [
    "df.head(10)"
   ]
  },
  {
   "cell_type": "code",
   "execution_count": 63,
   "metadata": {},
   "outputs": [],
   "source": [
    "df = df.drop(['article_link', 'index'], axis = 1)"
   ]
  },
  {
   "cell_type": "code",
   "execution_count": 64,
   "metadata": {},
   "outputs": [
    {
     "data": {
      "text/plain": [
       "<matplotlib.axes._subplots.AxesSubplot at 0x24c805fb978>"
      ]
     },
     "execution_count": 64,
     "metadata": {},
     "output_type": "execute_result"
    },
    {
     "data": {
      "image/png": "[encoded data removed]",
      "text/plain": [
       "<Figure size 432x288 with 1 Axes>"
      ]
     },
     "metadata": {
      "needs_background": "light"
     },
     "output_type": "display_data"
    }
   ],
   "source": [
    "df['is_sarcastic'].value_counts().plot(kind = 'bar')"
   ]
  },
  {
   "cell_type": "code",
   "execution_count": 65,
   "metadata": {},
   "outputs": [
    {
     "data": {
      "text/plain": [
       "headline        0\n",
       "is_sarcastic    0\n",
       "dtype: int64"
      ]
     },
     "execution_count": 65,
     "metadata": {},
     "output_type": "execute_result"
    }
   ],
   "source": [
    "df.isnull().sum()"
   ]
  },
  {
   "cell_type": "code",
   "execution_count": 66,
   "metadata": {},
   "outputs": [
    {
     "name": "stdout",
     "output_type": "stream",
     "text": [
      "former versace store clerk sues over secret 'black code' for minority shoppers\n"
     ]
    }
   ],
   "source": [
    "print(df['headline'][0])"
   ]
  },
  {
   "cell_type": "code",
   "execution_count": 67,
   "metadata": {},
   "outputs": [],
   "source": [
    "df['length'] = df['headline'].apply(lambda x : len(x.split(' ')))"
   ]
  },
  {
   "cell_type": "code",
   "execution_count": 68,
   "metadata": {},
   "outputs": [
    {
     "data": {
      "image/png": "[encoded data removed]",
      "text/plain": [
       "<Figure size 432x288 with 1 Axes>"
      ]
     },
     "metadata": {
      "needs_background": "light"
     },
     "output_type": "display_data"
    }
   ],
   "source": [
    "plt.xscale('log')\n",
    "bins = 1.15**(np.arange(0,30))\n",
    "plt.hist(df[df['is_sarcastic'] == 0]['length'], alpha = 0.8, bins = bins)\n",
    "plt.hist(df[df['is_sarcastic'] == 1]['length'], alpha = 0.8, bins = bins)\n",
    "plt.legend(('0', '1'))\n",
    "plt.show()"
   ]
  },
  {
   "cell_type": "markdown",
   "metadata": {},
   "source": [
    "# Some Text Analysis using Spacy"
   ]
  },
  {
   "cell_type": "code",
   "execution_count": 69,
   "metadata": {},
   "outputs": [
    {
     "name": "stdout",
     "output_type": "stream",
     "text": [
      "['give', 'yourselves', 'further', 'became', 'any', 'six', 'although', 'could', 'third', 'ever', 'a', 'anyhow', 'also', 'hereafter', \"n't\", 'ten', 'else', 'thereby', 'have', 'three', 'herself', 'then', 'his', '‘ve', 'toward', 'if', \"'ll\", 'twelve', 'last', 'during', 'fifty', 'not', 'been', 'something', 'he', 'besides', 'though', 'beforehand', 'each', '‘re', 'do', 'itself', 'them', 'formerly', 'via', 'part', 'thru', 'were', 'than', 'from', 'or', 'who', 'will', '’re', 'might', 'serious', 'call', 'since', 'hence', \"'m\", 'using', 'nothing', 'unless', 'why', 'go', 'please', 'side', 'therefore', 'whenever', 'only', 'due', 'sometime', 'may', 'through', '’d', 'whereafter', 'she', 'such', 'beside', 'the', 'seemed', 'does', 'becoming', 'whatever', 'mine', 'off', 'sixty', 'someone', 'her', 'otherwise', 'under', 'anything', 'former', 'eight', 'nor', 'whereas', 'across', 'full', 'as', 'already', 'in', 'per', 'nowhere', 'another', 'latter', 'whence', 'make', '’ll', 'bottom', 'show', 'by', 'seems', 'many', 'me', 'has', 'various', 'him', 'throughout', 'onto', 'together', 'hereupon', 'did', 'enough', 'again', 'other', 'one', 'amongst', 'very', 'yourself', 'now', 'around', 'front', 'really', 'would', '‘ll', 'two', 'both', 'becomes', 'towards', 'can', 'everything', 'forty', 'everywhere', 'seem', \"'s\", 'an', 'which', 'several', 'doing', 'thus', 'against', 'should', 'that', 'i', 'even', 'four', 'elsewhere', 'say', 'all', 'into', 'top', 'our', 'whither', 'to', 'take', 'above', '’ve', 'almost', 'nobody', 'at', 'for', \"'re\", 'beyond', 'rather', 'never', 'himself', 'alone', 'whose', 'what', 'nine', 'between', 'fifteen', 'too', 'where', 'wherein', 'back', 'more', 'without', 'upon', 'none', 'whereby', 'yours', 'whether', 'thereupon', 'often', 'myself', 'regarding', 'hundred', 'eleven', 'we', 'whoever', 'up', 'just', 'first', 'they', 'some', 'until', 'move', 'its', 'us', 'moreover', 'others', 'herein', 'with', 'over', 'thereafter', 'name', 'mostly', 'hers', 'empty', 'somehow', 'put', 'cannot', '‘d', 'either', 'whole', 'was', 'same', 'get', 'next', 'well', '’s', 'n‘t', 'most', 'whereupon', 'before', 'there', \"'ve\", 'twenty', 'done', 'and', 'when', 'while', 'behind', 'along', 'nevertheless', 'no', 'thence', 'much', 'less', 'about', 'keep', 'made', 'anywhere', 'those', 'it', 'are', 'yet', 'used', 'being', 'how', 'see', 'among', 'ca', 'themselves', 're', 'whom', 'indeed', 'afterwards', \"'d\", 'anyone', '’m', 'except', 'few', 'five', 'because', 'own', 'somewhere', 'must', 'is', 'n’t', 'neither', 'wherever', 'down', 'anyway', 'however', 'below', 'everyone', 'so', 'hereby', '‘m', 'meanwhile', 'this', 'become', 'seeming', 'out', 'ourselves', 'my', 'quite', 'here', 'still', 'am', 'noone', 'latterly', 'be', 'had', 'you', 'least', 'sometimes', 'of', 'after', 'ours', 'your', 'on', 'therein', 'amount', 'every', 'once', 'perhaps', 'their', '‘s', 'namely', 'these', 'but', 'always', 'within']\n"
     ]
    }
   ],
   "source": [
    "sw = list(nlp.Defaults.stop_words)\n",
    "print(sw)"
   ]
  },
  {
   "cell_type": "code",
   "execution_count": 70,
   "metadata": {},
   "outputs": [
    {
     "data": {
      "text/plain": [
       "34011"
      ]
     },
     "execution_count": 70,
     "metadata": {},
     "output_type": "execute_result"
    }
   ],
   "source": [
    "np.argmax(list(df['length']))"
   ]
  },
  {
   "cell_type": "code",
   "execution_count": 71,
   "metadata": {},
   "outputs": [],
   "source": [
    "s = df['headline'].iloc[34011]"
   ]
  },
  {
   "cell_type": "code",
   "execution_count": 72,
   "metadata": {},
   "outputs": [],
   "source": [
    "doc = nlp(s)"
   ]
  },
  {
   "cell_type": "code",
   "execution_count": 73,
   "metadata": {},
   "outputs": [
    {
     "name": "stdout",
     "output_type": "stream",
     "text": [
      "hot wheels ranked number one toy for rolling down ramp, knocking over dominoes that send marble down a funnel, dropping onto teeter-totter that yanks on string, causing pulley system to raise wooden block, propelling series of twine rollers that unwind spring, launching tennis ball across room, inching tire down slope until it hits power switch, activating table fan that blows toy ship with nail attached to it across kiddie pool, popping water balloon that fills cup, weighing down lever that forces basketball down track, nudging broomstick on axis to rotate, allowing golf ball to roll into sideways coffee mug, which tumbles down row of hardcover books until handle catches hook attached to lever that causes wooden mallet to slam down on serving spoon, catapulting small ball into cup attached by ribbon to lazy susan, which spins until it pushes d battery down incline plane, tipping over salt shaker to season omelet\n"
     ]
    }
   ],
   "source": [
    "print(doc.text)"
   ]
  },
  {
   "cell_type": "code",
   "execution_count": 74,
   "metadata": {},
   "outputs": [
    {
     "name": "stdout",
     "output_type": "stream",
     "text": [
      "---------------------------------------------------------------------\n",
      "Text                      POS        TAG        LEMMA      EXPLAIN   \n",
      "---------------------------------------------------------------------\n",
      "hot             ADJ        JJ         hot        adjective \n",
      "wheels          NOUN       NNS        wheel      noun, plural\n",
      "ranked          VERB       VBD        rank       verb, past tense\n",
      "number          NOUN       NN         number     noun, singular or mass\n",
      "one             NUM        CD         one        cardinal number\n",
      "toy             NOUN       NN         toy        noun, singular or mass\n",
      "for             ADP        IN         for        conjunction, subordinating or preposition\n",
      "rolling         VERB       VBG        roll       verb, gerund or present participle\n",
      "down            PART       RP         down       adverb, particle\n",
      "ramp            NOUN       NN         ramp       noun, singular or mass\n",
      ",               PUNCT      ,          ,          punctuation mark, comma\n",
      "knocking        VERB       VBG        knock      verb, gerund or present participle\n",
      "over            ADP        IN         over       conjunction, subordinating or preposition\n",
      "dominoes        NOUN       NNS        domino     noun, plural\n",
      "that            DET        WDT        that       wh-determiner\n",
      "send            VERB       VBP        send       verb, non-3rd person singular present\n",
      "marble          NOUN       NN         marble     noun, singular or mass\n",
      "down            ADP        IN         down       conjunction, subordinating or preposition\n",
      "a               DET        DT         a          determiner\n",
      "funnel          NOUN       NN         funnel     noun, singular or mass\n",
      ",               PUNCT      ,          ,          punctuation mark, comma\n",
      "dropping        VERB       VBG        drop       verb, gerund or present participle\n",
      "onto            ADP        IN         onto       conjunction, subordinating or preposition\n",
      "teeter          NOUN       NN         teeter     noun, singular or mass\n",
      "-               PUNCT      HYPH       -          punctuation mark, hyphen\n",
      "totter          NOUN       NN         totter     noun, singular or mass\n",
      "that            DET        WDT        that       wh-determiner\n",
      "yanks           NOUN       NNS        yank       noun, plural\n",
      "on              ADP        IN         on         conjunction, subordinating or preposition\n",
      "string          NOUN       NN         string     noun, singular or mass\n",
      ",               PUNCT      ,          ,          punctuation mark, comma\n",
      "causing         VERB       VBG        cause      verb, gerund or present participle\n",
      "pulley          ADJ        JJ         pulley     adjective \n",
      "system          NOUN       NN         system     noun, singular or mass\n",
      "to              PART       TO         to         infinitival to\n",
      "raise           VERB       VB         raise      verb, base form\n",
      "wooden          ADJ        JJ         wooden     adjective \n",
      "block           NOUN       NN         block      noun, singular or mass\n",
      ",               PUNCT      ,          ,          punctuation mark, comma\n",
      "propelling      VERB       VBG        propel     verb, gerund or present participle\n",
      "series          NOUN       NN         series     noun, singular or mass\n",
      "of              ADP        IN         of         conjunction, subordinating or preposition\n",
      "twine           ADJ        JJ         twine      adjective \n",
      "rollers         NOUN       NNS        roller     noun, plural\n",
      "that            DET        WDT        that       wh-determiner\n",
      "unwind          ADJ        JJ         unwind     adjective \n",
      "spring          NOUN       NN         spring     noun, singular or mass\n",
      ",               PUNCT      ,          ,          punctuation mark, comma\n",
      "launching       VERB       VBG        launch     verb, gerund or present participle\n",
      "tennis          NOUN       NN         tennis     noun, singular or mass\n",
      "ball            NOUN       NN         ball       noun, singular or mass\n",
      "across          ADP        IN         across     conjunction, subordinating or preposition\n",
      "room            NOUN       NN         room       noun, singular or mass\n",
      ",               PUNCT      ,          ,          punctuation mark, comma\n",
      "inching         VERB       VBG        inch       verb, gerund or present participle\n",
      "tire            NOUN       NN         tire       noun, singular or mass\n",
      "down            ADV        RB         down       adverb    \n",
      "slope           NOUN       NN         slope      noun, singular or mass\n",
      "until           ADP        IN         until      conjunction, subordinating or preposition\n",
      "it              PRON       PRP        -PRON-     pronoun, personal\n",
      "hits            VERB       VBZ        hit        verb, 3rd person singular present\n",
      "power           NOUN       NN         power      noun, singular or mass\n",
      "switch          NOUN       NN         switch     noun, singular or mass\n",
      ",               PUNCT      ,          ,          punctuation mark, comma\n",
      "activating      VERB       VBG        activate   verb, gerund or present participle\n",
      "table           NOUN       NN         table      noun, singular or mass\n",
      "fan             NOUN       NN         fan        noun, singular or mass\n",
      "that            DET        WDT        that       wh-determiner\n",
      "blows           VERB       VBZ        blow       verb, 3rd person singular present\n",
      "toy             NOUN       NN         toy        noun, singular or mass\n",
      "ship            NOUN       NN         ship       noun, singular or mass\n",
      "with            ADP        IN         with       conjunction, subordinating or preposition\n",
      "nail            NOUN       NN         nail       noun, singular or mass\n",
      "attached        VERB       VBN        attach     verb, past participle\n",
      "to              ADP        IN         to         conjunction, subordinating or preposition\n",
      "it              PRON       PRP        -PRON-     pronoun, personal\n",
      "across          ADP        IN         across     conjunction, subordinating or preposition\n",
      "kiddie          NOUN       NN         kiddie     noun, singular or mass\n",
      "pool            NOUN       NN         pool       noun, singular or mass\n",
      ",               PUNCT      ,          ,          punctuation mark, comma\n",
      "popping         VERB       VBG        pop        verb, gerund or present participle\n",
      "water           NOUN       NN         water      noun, singular or mass\n",
      "balloon         NOUN       NN         balloon    noun, singular or mass\n",
      "that            DET        WDT        that       wh-determiner\n",
      "fills           VERB       VBZ        fill       verb, 3rd person singular present\n",
      "cup             NOUN       NN         cup        noun, singular or mass\n",
      ",               PUNCT      ,          ,          punctuation mark, comma\n",
      "weighing        VERB       VBG        weigh      verb, gerund or present participle\n",
      "down            PART       RP         down       adverb, particle\n",
      "lever           NOUN       NN         lever      noun, singular or mass\n",
      "that            DET        WDT        that       wh-determiner\n",
      "forces          NOUN       NNS        force      noun, plural\n",
      "basketball      VERB       VBP        basketball verb, non-3rd person singular present\n",
      "down            ADP        IN         down       conjunction, subordinating or preposition\n",
      "track           NOUN       NN         track      noun, singular or mass\n",
      ",               PUNCT      ,          ,          punctuation mark, comma\n",
      "nudging         VERB       VBG        nudge      verb, gerund or present participle\n",
      "broomstick      NOUN       NN         broomstick noun, singular or mass\n",
      "on              ADP        IN         on         conjunction, subordinating or preposition\n",
      "axis            NOUN       NN         axis       noun, singular or mass\n",
      "to              PART       TO         to         infinitival to\n",
      "rotate          VERB       VB         rotate     verb, base form\n",
      ",               PUNCT      ,          ,          punctuation mark, comma\n",
      "allowing        VERB       VBG        allow      verb, gerund or present participle\n",
      "golf            NOUN       NN         golf       noun, singular or mass\n",
      "ball            NOUN       NN         ball       noun, singular or mass\n",
      "to              PART       TO         to         infinitival to\n",
      "roll            VERB       VB         roll       verb, base form\n",
      "into            ADP        IN         into       conjunction, subordinating or preposition\n",
      "sideways        NOUN       NNS        sideway    noun, plural\n",
      "coffee          NOUN       NN         coffee     noun, singular or mass\n",
      "mug             INTJ       UH         mug        interjection\n",
      ",               PUNCT      ,          ,          punctuation mark, comma\n",
      "which           DET        WDT        which      wh-determiner\n",
      "tumbles         VERB       VBZ        tumble     verb, 3rd person singular present\n",
      "down            PART       RP         down       adverb, particle\n",
      "row             NOUN       NN         row        noun, singular or mass\n",
      "of              ADP        IN         of         conjunction, subordinating or preposition\n",
      "hardcover       NOUN       NN         hardcover  noun, singular or mass\n",
      "books           NOUN       NNS        book       noun, plural\n",
      "until           ADP        IN         until      conjunction, subordinating or preposition\n",
      "handle          NOUN       NN         handle     noun, singular or mass\n",
      "catches         NOUN       NNS        catch      noun, plural\n",
      "hook            VERB       VBP        hook       verb, non-3rd person singular present\n",
      "attached        VERB       VBN        attach     verb, past participle\n",
      "to              ADP        IN         to         conjunction, subordinating or preposition\n",
      "lever           NOUN       NN         lever      noun, singular or mass\n",
      "that            DET        WDT        that       wh-determiner\n",
      "causes          VERB       VBZ        cause      verb, 3rd person singular present\n",
      "wooden          ADJ        JJ         wooden     adjective \n",
      "mallet          NOUN       NN         mallet     noun, singular or mass\n",
      "to              PART       TO         to         infinitival to\n",
      "slam            VERB       VB         slam       verb, base form\n",
      "down            PART       RP         down       adverb, particle\n",
      "on              ADP        IN         on         conjunction, subordinating or preposition\n",
      "serving         VERB       VBG        serve      verb, gerund or present participle\n",
      "spoon           NOUN       NN         spoon      noun, singular or mass\n",
      ",               PUNCT      ,          ,          punctuation mark, comma\n",
      "catapulting     VERB       VBG        catapult   verb, gerund or present participle\n",
      "small           ADJ        JJ         small      adjective \n",
      "ball            NOUN       NN         ball       noun, singular or mass\n",
      "into            ADP        IN         into       conjunction, subordinating or preposition\n",
      "cup             NOUN       NN         cup        noun, singular or mass\n",
      "attached        VERB       VBN        attach     verb, past participle\n",
      "by              ADP        IN         by         conjunction, subordinating or preposition\n",
      "ribbon          NOUN       NN         ribbon     noun, singular or mass\n",
      "to              ADP        IN         to         conjunction, subordinating or preposition\n",
      "lazy            ADJ        JJ         lazy       adjective \n",
      "susan           NOUN       NN         susan      noun, singular or mass\n",
      ",               PUNCT      ,          ,          punctuation mark, comma\n",
      "which           DET        WDT        which      wh-determiner\n",
      "spins           VERB       VBZ        spin       verb, 3rd person singular present\n",
      "until           ADP        IN         until      conjunction, subordinating or preposition\n",
      "it              PRON       PRP        -PRON-     pronoun, personal\n",
      "pushes          VERB       VBZ        push       verb, 3rd person singular present\n",
      "d               NOUN       NN         d          noun, singular or mass\n",
      "battery         NOUN       NN         battery    noun, singular or mass\n",
      "down            ADP        IN         down       conjunction, subordinating or preposition\n",
      "incline         NOUN       NN         incline    noun, singular or mass\n",
      "plane           NOUN       NN         plane      noun, singular or mass\n",
      ",               PUNCT      ,          ,          punctuation mark, comma\n",
      "tipping         VERB       VBG        tip        verb, gerund or present participle\n",
      "over            ADP        IN         over       conjunction, subordinating or preposition\n",
      "salt            NOUN       NN         salt       noun, singular or mass\n",
      "shaker          NOUN       NN         shaker     noun, singular or mass\n",
      "to              PART       TO         to         infinitival to\n",
      "season          NOUN       NN         season     noun, singular or mass\n",
      "omelet          VERB       VB         omelet     verb, base form\n"
     ]
    }
   ],
   "source": [
    "print('---------------------------------------------------------------------')\n",
    "print(f\"{'Text':{25}} {'POS':{10}} {'TAG':{10}} {'LEMMA':{10}} {'EXPLAIN':{10}}\")\n",
    "print('---------------------------------------------------------------------')\n",
    "for token in doc:\n",
    "    print(f'{token.text:{15}} {token.pos_:{10}} {token.tag_:{10}} {token.lemma_:{10}} {spacy.explain(token.tag_):{10}}')"
   ]
  },
  {
   "cell_type": "code",
   "execution_count": 75,
   "metadata": {},
   "outputs": [
    {
     "data": {
      "text/html": [
       "<svg xmlns=\"http://www.w3.org/2000/svg\" xmlns:xlink=\"http://www.w3.org/1999/xlink\" xml:lang=\"en\" id=\"8275c175336b4b6d882a177f4fd23c9c-0\" class=\"displacy\" width=\"1490\" height=\"317.0\" direction=\"ltr\" style=\"max-width: none; height: 317.0px; color: yellow; background: #09a3d5; font-family: Times; direction: ltr\">\n",
       "<text class=\"displacy-token\" fill=\"currentColor\" text-anchor=\"middle\" y=\"227.0\">\n",
       "    <tspan class=\"displacy-word\" fill=\"currentColor\" x=\"50\">former</tspan>\n",
       "    <tspan class=\"displacy-tag\" dy=\"2em\" fill=\"currentColor\" x=\"50\">ADJ</tspan>\n",
       "</text>\n",
       "\n",
       "<text class=\"displacy-token\" fill=\"currentColor\" text-anchor=\"middle\" y=\"227.0\">\n",
       "    <tspan class=\"displacy-word\" fill=\"currentColor\" x=\"170\">versace</tspan>\n",
       "    <tspan class=\"displacy-tag\" dy=\"2em\" fill=\"currentColor\" x=\"170\">NOUN</tspan>\n",
       "</text>\n",
       "\n",
       "<text class=\"displacy-token\" fill=\"currentColor\" text-anchor=\"middle\" y=\"227.0\">\n",
       "    <tspan class=\"displacy-word\" fill=\"currentColor\" x=\"290\">store</tspan>\n",
       "    <tspan class=\"displacy-tag\" dy=\"2em\" fill=\"currentColor\" x=\"290\">NOUN</tspan>\n",
       "</text>\n",
       "\n",
       "<text class=\"displacy-token\" fill=\"currentColor\" text-anchor=\"middle\" y=\"227.0\">\n",
       "    <tspan class=\"displacy-word\" fill=\"currentColor\" x=\"410\">clerk</tspan>\n",
       "    <tspan class=\"displacy-tag\" dy=\"2em\" fill=\"currentColor\" x=\"410\">NOUN</tspan>\n",
       "</text>\n",
       "\n",
       "<text class=\"displacy-token\" fill=\"currentColor\" text-anchor=\"middle\" y=\"227.0\">\n",
       "    <tspan class=\"displacy-word\" fill=\"currentColor\" x=\"530\">sues</tspan>\n",
       "    <tspan class=\"displacy-tag\" dy=\"2em\" fill=\"currentColor\" x=\"530\">VERB</tspan>\n",
       "</text>\n",
       "\n",
       "<text class=\"displacy-token\" fill=\"currentColor\" text-anchor=\"middle\" y=\"227.0\">\n",
       "    <tspan class=\"displacy-word\" fill=\"currentColor\" x=\"650\">over</tspan>\n",
       "    <tspan class=\"displacy-tag\" dy=\"2em\" fill=\"currentColor\" x=\"650\">ADP</tspan>\n",
       "</text>\n",
       "\n",
       "<text class=\"displacy-token\" fill=\"currentColor\" text-anchor=\"middle\" y=\"227.0\">\n",
       "    <tspan class=\"displacy-word\" fill=\"currentColor\" x=\"770\">secret '</tspan>\n",
       "    <tspan class=\"displacy-tag\" dy=\"2em\" fill=\"currentColor\" x=\"770\">ADJ</tspan>\n",
       "</text>\n",
       "\n",
       "<text class=\"displacy-token\" fill=\"currentColor\" text-anchor=\"middle\" y=\"227.0\">\n",
       "    <tspan class=\"displacy-word\" fill=\"currentColor\" x=\"890\">black</tspan>\n",
       "    <tspan class=\"displacy-tag\" dy=\"2em\" fill=\"currentColor\" x=\"890\">ADJ</tspan>\n",
       "</text>\n",
       "\n",
       "<text class=\"displacy-token\" fill=\"currentColor\" text-anchor=\"middle\" y=\"227.0\">\n",
       "    <tspan class=\"displacy-word\" fill=\"currentColor\" x=\"1010\">code'</tspan>\n",
       "    <tspan class=\"displacy-tag\" dy=\"2em\" fill=\"currentColor\" x=\"1010\">NOUN</tspan>\n",
       "</text>\n",
       "\n",
       "<text class=\"displacy-token\" fill=\"currentColor\" text-anchor=\"middle\" y=\"227.0\">\n",
       "    <tspan class=\"displacy-word\" fill=\"currentColor\" x=\"1130\">for</tspan>\n",
       "    <tspan class=\"displacy-tag\" dy=\"2em\" fill=\"currentColor\" x=\"1130\">ADP</tspan>\n",
       "</text>\n",
       "\n",
       "<text class=\"displacy-token\" fill=\"currentColor\" text-anchor=\"middle\" y=\"227.0\">\n",
       "    <tspan class=\"displacy-word\" fill=\"currentColor\" x=\"1250\">minority</tspan>\n",
       "    <tspan class=\"displacy-tag\" dy=\"2em\" fill=\"currentColor\" x=\"1250\">NOUN</tspan>\n",
       "</text>\n",
       "\n",
       "<text class=\"displacy-token\" fill=\"currentColor\" text-anchor=\"middle\" y=\"227.0\">\n",
       "    <tspan class=\"displacy-word\" fill=\"currentColor\" x=\"1370\">shoppers</tspan>\n",
       "    <tspan class=\"displacy-tag\" dy=\"2em\" fill=\"currentColor\" x=\"1370\">NOUN</tspan>\n",
       "</text>\n",
       "\n",
       "<g class=\"displacy-arrow\">\n",
       "    <path class=\"displacy-arc\" id=\"arrow-8275c175336b4b6d882a177f4fd23c9c-0-0\" stroke-width=\"2px\" d=\"M62,182.0 62,122.0 410.0,122.0 410.0,182.0\" fill=\"none\" stroke=\"currentColor\"/>\n",
       "    <text dy=\"1.25em\" style=\"font-size: 0.8em; letter-spacing: 1px\">\n",
       "        <textPath xlink:href=\"#arrow-8275c175336b4b6d882a177f4fd23c9c-0-0\" class=\"displacy-label\" startOffset=\"50%\" side=\"left\" fill=\"currentColor\" text-anchor=\"middle\">amod</textPath>\n",
       "    </text>\n",
       "    <path class=\"displacy-arrowhead\" d=\"M62,184.0 L58,176.0 66,176.0\" fill=\"currentColor\"/>\n",
       "</g>\n",
       "\n",
       "<g class=\"displacy-arrow\">\n",
       "    <path class=\"displacy-arc\" id=\"arrow-8275c175336b4b6d882a177f4fd23c9c-0-1\" stroke-width=\"2px\" d=\"M182,182.0 182,162.0 284.0,162.0 284.0,182.0\" fill=\"none\" stroke=\"currentColor\"/>\n",
       "    <text dy=\"1.25em\" style=\"font-size: 0.8em; letter-spacing: 1px\">\n",
       "        <textPath xlink:href=\"#arrow-8275c175336b4b6d882a177f4fd23c9c-0-1\" class=\"displacy-label\" startOffset=\"50%\" side=\"left\" fill=\"currentColor\" text-anchor=\"middle\">compound</textPath>\n",
       "    </text>\n",
       "    <path class=\"displacy-arrowhead\" d=\"M182,184.0 L178,176.0 186,176.0\" fill=\"currentColor\"/>\n",
       "</g>\n",
       "\n",
       "<g class=\"displacy-arrow\">\n",
       "    <path class=\"displacy-arc\" id=\"arrow-8275c175336b4b6d882a177f4fd23c9c-0-2\" stroke-width=\"2px\" d=\"M302,182.0 302,162.0 404.0,162.0 404.0,182.0\" fill=\"none\" stroke=\"currentColor\"/>\n",
       "    <text dy=\"1.25em\" style=\"font-size: 0.8em; letter-spacing: 1px\">\n",
       "        <textPath xlink:href=\"#arrow-8275c175336b4b6d882a177f4fd23c9c-0-2\" class=\"displacy-label\" startOffset=\"50%\" side=\"left\" fill=\"currentColor\" text-anchor=\"middle\">compound</textPath>\n",
       "    </text>\n",
       "    <path class=\"displacy-arrowhead\" d=\"M302,184.0 L298,176.0 306,176.0\" fill=\"currentColor\"/>\n",
       "</g>\n",
       "\n",
       "<g class=\"displacy-arrow\">\n",
       "    <path class=\"displacy-arc\" id=\"arrow-8275c175336b4b6d882a177f4fd23c9c-0-3\" stroke-width=\"2px\" d=\"M422,182.0 422,162.0 524.0,162.0 524.0,182.0\" fill=\"none\" stroke=\"currentColor\"/>\n",
       "    <text dy=\"1.25em\" style=\"font-size: 0.8em; letter-spacing: 1px\">\n",
       "        <textPath xlink:href=\"#arrow-8275c175336b4b6d882a177f4fd23c9c-0-3\" class=\"displacy-label\" startOffset=\"50%\" side=\"left\" fill=\"currentColor\" text-anchor=\"middle\">compound</textPath>\n",
       "    </text>\n",
       "    <path class=\"displacy-arrowhead\" d=\"M422,184.0 L418,176.0 426,176.0\" fill=\"currentColor\"/>\n",
       "</g>\n",
       "\n",
       "<g class=\"displacy-arrow\">\n",
       "    <path class=\"displacy-arc\" id=\"arrow-8275c175336b4b6d882a177f4fd23c9c-0-4\" stroke-width=\"2px\" d=\"M542,182.0 542,162.0 644.0,162.0 644.0,182.0\" fill=\"none\" stroke=\"currentColor\"/>\n",
       "    <text dy=\"1.25em\" style=\"font-size: 0.8em; letter-spacing: 1px\">\n",
       "        <textPath xlink:href=\"#arrow-8275c175336b4b6d882a177f4fd23c9c-0-4\" class=\"displacy-label\" startOffset=\"50%\" side=\"left\" fill=\"currentColor\" text-anchor=\"middle\">prep</textPath>\n",
       "    </text>\n",
       "    <path class=\"displacy-arrowhead\" d=\"M644.0,184.0 L648.0,176.0 640.0,176.0\" fill=\"currentColor\"/>\n",
       "</g>\n",
       "\n",
       "<g class=\"displacy-arrow\">\n",
       "    <path class=\"displacy-arc\" id=\"arrow-8275c175336b4b6d882a177f4fd23c9c-0-5\" stroke-width=\"2px\" d=\"M782,182.0 782,142.0 1007.0,142.0 1007.0,182.0\" fill=\"none\" stroke=\"currentColor\"/>\n",
       "    <text dy=\"1.25em\" style=\"font-size: 0.8em; letter-spacing: 1px\">\n",
       "        <textPath xlink:href=\"#arrow-8275c175336b4b6d882a177f4fd23c9c-0-5\" class=\"displacy-label\" startOffset=\"50%\" side=\"left\" fill=\"currentColor\" text-anchor=\"middle\">amod</textPath>\n",
       "    </text>\n",
       "    <path class=\"displacy-arrowhead\" d=\"M782,184.0 L778,176.0 786,176.0\" fill=\"currentColor\"/>\n",
       "</g>\n",
       "\n",
       "<g class=\"displacy-arrow\">\n",
       "    <path class=\"displacy-arc\" id=\"arrow-8275c175336b4b6d882a177f4fd23c9c-0-6\" stroke-width=\"2px\" d=\"M902,182.0 902,162.0 1004.0,162.0 1004.0,182.0\" fill=\"none\" stroke=\"currentColor\"/>\n",
       "    <text dy=\"1.25em\" style=\"font-size: 0.8em; letter-spacing: 1px\">\n",
       "        <textPath xlink:href=\"#arrow-8275c175336b4b6d882a177f4fd23c9c-0-6\" class=\"displacy-label\" startOffset=\"50%\" side=\"left\" fill=\"currentColor\" text-anchor=\"middle\">amod</textPath>\n",
       "    </text>\n",
       "    <path class=\"displacy-arrowhead\" d=\"M902,184.0 L898,176.0 906,176.0\" fill=\"currentColor\"/>\n",
       "</g>\n",
       "\n",
       "<g class=\"displacy-arrow\">\n",
       "    <path class=\"displacy-arc\" id=\"arrow-8275c175336b4b6d882a177f4fd23c9c-0-7\" stroke-width=\"2px\" d=\"M662,182.0 662,122.0 1010.0,122.0 1010.0,182.0\" fill=\"none\" stroke=\"currentColor\"/>\n",
       "    <text dy=\"1.25em\" style=\"font-size: 0.8em; letter-spacing: 1px\">\n",
       "        <textPath xlink:href=\"#arrow-8275c175336b4b6d882a177f4fd23c9c-0-7\" class=\"displacy-label\" startOffset=\"50%\" side=\"left\" fill=\"currentColor\" text-anchor=\"middle\">pobj</textPath>\n",
       "    </text>\n",
       "    <path class=\"displacy-arrowhead\" d=\"M1010.0,184.0 L1014.0,176.0 1006.0,176.0\" fill=\"currentColor\"/>\n",
       "</g>\n",
       "\n",
       "<g class=\"displacy-arrow\">\n",
       "    <path class=\"displacy-arc\" id=\"arrow-8275c175336b4b6d882a177f4fd23c9c-0-8\" stroke-width=\"2px\" d=\"M1022,182.0 1022,162.0 1124.0,162.0 1124.0,182.0\" fill=\"none\" stroke=\"currentColor\"/>\n",
       "    <text dy=\"1.25em\" style=\"font-size: 0.8em; letter-spacing: 1px\">\n",
       "        <textPath xlink:href=\"#arrow-8275c175336b4b6d882a177f4fd23c9c-0-8\" class=\"displacy-label\" startOffset=\"50%\" side=\"left\" fill=\"currentColor\" text-anchor=\"middle\">prep</textPath>\n",
       "    </text>\n",
       "    <path class=\"displacy-arrowhead\" d=\"M1124.0,184.0 L1128.0,176.0 1120.0,176.0\" fill=\"currentColor\"/>\n",
       "</g>\n",
       "\n",
       "<g class=\"displacy-arrow\">\n",
       "    <path class=\"displacy-arc\" id=\"arrow-8275c175336b4b6d882a177f4fd23c9c-0-9\" stroke-width=\"2px\" d=\"M1262,182.0 1262,162.0 1364.0,162.0 1364.0,182.0\" fill=\"none\" stroke=\"currentColor\"/>\n",
       "    <text dy=\"1.25em\" style=\"font-size: 0.8em; letter-spacing: 1px\">\n",
       "        <textPath xlink:href=\"#arrow-8275c175336b4b6d882a177f4fd23c9c-0-9\" class=\"displacy-label\" startOffset=\"50%\" side=\"left\" fill=\"currentColor\" text-anchor=\"middle\">compound</textPath>\n",
       "    </text>\n",
       "    <path class=\"displacy-arrowhead\" d=\"M1262,184.0 L1258,176.0 1266,176.0\" fill=\"currentColor\"/>\n",
       "</g>\n",
       "\n",
       "<g class=\"displacy-arrow\">\n",
       "    <path class=\"displacy-arc\" id=\"arrow-8275c175336b4b6d882a177f4fd23c9c-0-10\" stroke-width=\"2px\" d=\"M1142,182.0 1142,142.0 1367.0,142.0 1367.0,182.0\" fill=\"none\" stroke=\"currentColor\"/>\n",
       "    <text dy=\"1.25em\" style=\"font-size: 0.8em; letter-spacing: 1px\">\n",
       "        <textPath xlink:href=\"#arrow-8275c175336b4b6d882a177f4fd23c9c-0-10\" class=\"displacy-label\" startOffset=\"50%\" side=\"left\" fill=\"currentColor\" text-anchor=\"middle\">pobj</textPath>\n",
       "    </text>\n",
       "    <path class=\"displacy-arrowhead\" d=\"M1367.0,184.0 L1371.0,176.0 1363.0,176.0\" fill=\"currentColor\"/>\n",
       "</g>\n",
       "</svg>"
      ],
      "text/plain": [
       "<IPython.core.display.HTML object>"
      ]
     },
     "metadata": {},
     "output_type": "display_data"
    }
   ],
   "source": [
    "doc1 = nlp(df['headline'][0])\n",
    "options = {'distance': 120, 'compact': 'True', 'color': 'yellow', 'bg': '#09a3d5', 'font': 'Times'}\n",
    "spacy.displacy.render(doc1, style='dep', options = options)"
   ]
  },
  {
   "cell_type": "code",
   "execution_count": 76,
   "metadata": {},
   "outputs": [
    {
     "name": "stdout",
     "output_type": "stream",
     "text": [
      "[]\n"
     ]
    }
   ],
   "source": [
    "# Let's check if we any null string in the data\n",
    "ar = []\n",
    "\n",
    "for i, val in enumerate(list(df['headline'])):\n",
    "    if(val == ''):\n",
    "        ar.append(i)\n",
    "\n",
    "print(ar)"
   ]
  },
  {
   "cell_type": "code",
   "execution_count": 77,
   "metadata": {},
   "outputs": [],
   "source": [
    "# So we don't have any strings which are null"
   ]
  },
  {
   "cell_type": "code",
   "execution_count": 78,
   "metadata": {},
   "outputs": [],
   "source": [
    "doc3 = nlp(df['headline'][1])"
   ]
  },
  {
   "cell_type": "code",
   "execution_count": 79,
   "metadata": {},
   "outputs": [
    {
     "data": {
      "text/plain": [
       "[the,\n",
       " roseanne,\n",
       " revival,\n",
       " catches,\n",
       " up,\n",
       " to,\n",
       " our,\n",
       " thorny,\n",
       " political,\n",
       " mood,\n",
       " for,\n",
       " better,\n",
       " and,\n",
       " worse]"
      ]
     },
     "execution_count": 79,
     "metadata": {},
     "output_type": "execute_result"
    }
   ],
   "source": [
    "ar = [token for token in doc3 if not token.is_punct | token.is_space]\n",
    "ar"
   ]
  },
  {
   "cell_type": "code",
   "execution_count": 80,
   "metadata": {},
   "outputs": [
    {
     "data": {
      "text/plain": [
       "['roseanne', 'revival', 'catch', 'thorny', 'political', 'mood', 'well', 'bad']"
      ]
     },
     "execution_count": 80,
     "metadata": {},
     "output_type": "execute_result"
    }
   ],
   "source": [
    "ar1 = [token.lemma_ for token in doc3 if not token.is_punct | token.is_space | token.is_stop]\n",
    "ar1"
   ]
  },
  {
   "cell_type": "code",
   "execution_count": null,
   "metadata": {},
   "outputs": [],
   "source": []
  },
  {
   "cell_type": "code",
   "execution_count": 81,
   "metadata": {},
   "outputs": [
    {
     "data": {
      "text/plain": [
       "'roseanne revival catch thorny political mood well bad'"
      ]
     },
     "execution_count": 81,
     "metadata": {},
     "output_type": "execute_result"
    }
   ],
   "source": [
    "' '.join(ar1)"
   ]
  },
  {
   "cell_type": "code",
   "execution_count": 82,
   "metadata": {},
   "outputs": [
    {
     "name": "stderr",
     "output_type": "stream",
     "text": [
      "100%|████████████████████████████████████████████████████████████████████████████| 55328/55328 [14:33<00:00, 63.37it/s]\n"
     ]
    }
   ],
   "source": [
    "def remove_punctuations(ar):\n",
    "    result = []\n",
    "    for i in tqdm(ar):\n",
    "        tokens = [token.lemma_ for token in nlp(i) if not token.is_punct | token.is_space | token.is_stop]\n",
    "        result.append(' '.join(tokens))\n",
    "    return result\n",
    "\n",
    "df['headline_pre'] = remove_punctuations(df['headline'])"
   ]
  },
  {
   "cell_type": "code",
   "execution_count": 83,
   "metadata": {},
   "outputs": [
    {
     "data": {
      "text/html": [
       "<div>\n",
       "<style scoped>\n",
       "    .dataframe tbody tr th:only-of-type {\n",
       "        vertical-align: middle;\n",
       "    }\n",
       "\n",
       "    .dataframe tbody tr th {\n",
       "        vertical-align: top;\n",
       "    }\n",
       "\n",
       "    .dataframe thead th {\n",
       "        text-align: right;\n",
       "    }\n",
       "</style>\n",
       "<table border=\"1\" class=\"dataframe\">\n",
       "  <thead>\n",
       "    <tr style=\"text-align: right;\">\n",
       "      <th></th>\n",
       "      <th>headline</th>\n",
       "      <th>is_sarcastic</th>\n",
       "      <th>length</th>\n",
       "      <th>headline_pre</th>\n",
       "    </tr>\n",
       "  </thead>\n",
       "  <tbody>\n",
       "    <tr>\n",
       "      <th>0</th>\n",
       "      <td>former versace store clerk sues over secret 'b...</td>\n",
       "      <td>0</td>\n",
       "      <td>12</td>\n",
       "      <td>versace store clerk sue secret black code mino...</td>\n",
       "    </tr>\n",
       "    <tr>\n",
       "      <th>1</th>\n",
       "      <td>the 'roseanne' revival catches up to our thorn...</td>\n",
       "      <td>0</td>\n",
       "      <td>14</td>\n",
       "      <td>roseanne revival catch thorny political mood w...</td>\n",
       "    </tr>\n",
       "    <tr>\n",
       "      <th>2</th>\n",
       "      <td>mom starting to fear son's web series closest ...</td>\n",
       "      <td>1</td>\n",
       "      <td>14</td>\n",
       "      <td>mom start fear son web series close thing gran...</td>\n",
       "    </tr>\n",
       "    <tr>\n",
       "      <th>3</th>\n",
       "      <td>boehner just wants wife to listen, not come up...</td>\n",
       "      <td>1</td>\n",
       "      <td>13</td>\n",
       "      <td>boehner want wife listen come alternative debt...</td>\n",
       "    </tr>\n",
       "    <tr>\n",
       "      <th>4</th>\n",
       "      <td>j.k. rowling wishes snape happy birthday in th...</td>\n",
       "      <td>0</td>\n",
       "      <td>11</td>\n",
       "      <td>j.k rowling wish snape happy birthday magical way</td>\n",
       "    </tr>\n",
       "  </tbody>\n",
       "</table>\n",
       "</div>"
      ],
      "text/plain": [
       "                                            headline  is_sarcastic  length  \\\n",
       "0  former versace store clerk sues over secret 'b...             0      12   \n",
       "1  the 'roseanne' revival catches up to our thorn...             0      14   \n",
       "2  mom starting to fear son's web series closest ...             1      14   \n",
       "3  boehner just wants wife to listen, not come up...             1      13   \n",
       "4  j.k. rowling wishes snape happy birthday in th...             0      11   \n",
       "\n",
       "                                        headline_pre  \n",
       "0  versace store clerk sue secret black code mino...  \n",
       "1  roseanne revival catch thorny political mood w...  \n",
       "2  mom start fear son web series close thing gran...  \n",
       "3  boehner want wife listen come alternative debt...  \n",
       "4  j.k rowling wish snape happy birthday magical way  "
      ]
     },
     "execution_count": 83,
     "metadata": {},
     "output_type": "execute_result"
    }
   ],
   "source": [
    "df.head()"
   ]
  },
  {
   "cell_type": "code",
   "execution_count": 84,
   "metadata": {},
   "outputs": [],
   "source": [
    "df.to_csv('final_data.csv', sep = ',', index = False)"
   ]
  },
  {
   "cell_type": "code",
   "execution_count": 3,
   "metadata": {},
   "outputs": [],
   "source": [
    "data = pd.read_csv('final_data.csv')"
   ]
  },
  {
   "cell_type": "code",
   "execution_count": 4,
   "metadata": {},
   "outputs": [
    {
     "data": {
      "text/html": [
       "<div>\n",
       "<style scoped>\n",
       "    .dataframe tbody tr th:only-of-type {\n",
       "        vertical-align: middle;\n",
       "    }\n",
       "\n",
       "    .dataframe tbody tr th {\n",
       "        vertical-align: top;\n",
       "    }\n",
       "\n",
       "    .dataframe thead th {\n",
       "        text-align: right;\n",
       "    }\n",
       "</style>\n",
       "<table border=\"1\" class=\"dataframe\">\n",
       "  <thead>\n",
       "    <tr style=\"text-align: right;\">\n",
       "      <th></th>\n",
       "      <th>headline</th>\n",
       "      <th>is_sarcastic</th>\n",
       "      <th>length</th>\n",
       "      <th>headline_pre</th>\n",
       "    </tr>\n",
       "  </thead>\n",
       "  <tbody>\n",
       "    <tr>\n",
       "      <th>0</th>\n",
       "      <td>former versace store clerk sues over secret 'b...</td>\n",
       "      <td>0</td>\n",
       "      <td>12</td>\n",
       "      <td>versace store clerk sue secret black code mino...</td>\n",
       "    </tr>\n",
       "    <tr>\n",
       "      <th>1</th>\n",
       "      <td>the 'roseanne' revival catches up to our thorn...</td>\n",
       "      <td>0</td>\n",
       "      <td>14</td>\n",
       "      <td>roseanne revival catch thorny political mood w...</td>\n",
       "    </tr>\n",
       "    <tr>\n",
       "      <th>2</th>\n",
       "      <td>mom starting to fear son's web series closest ...</td>\n",
       "      <td>1</td>\n",
       "      <td>14</td>\n",
       "      <td>mom start fear son web series close thing gran...</td>\n",
       "    </tr>\n",
       "    <tr>\n",
       "      <th>3</th>\n",
       "      <td>boehner just wants wife to listen, not come up...</td>\n",
       "      <td>1</td>\n",
       "      <td>13</td>\n",
       "      <td>boehner want wife listen come alternative debt...</td>\n",
       "    </tr>\n",
       "    <tr>\n",
       "      <th>4</th>\n",
       "      <td>j.k. rowling wishes snape happy birthday in th...</td>\n",
       "      <td>0</td>\n",
       "      <td>11</td>\n",
       "      <td>j.k rowling wish snape happy birthday magical way</td>\n",
       "    </tr>\n",
       "  </tbody>\n",
       "</table>\n",
       "</div>"
      ],
      "text/plain": [
       "                                            headline  is_sarcastic  length  \\\n",
       "0  former versace store clerk sues over secret 'b...             0      12   \n",
       "1  the 'roseanne' revival catches up to our thorn...             0      14   \n",
       "2  mom starting to fear son's web series closest ...             1      14   \n",
       "3  boehner just wants wife to listen, not come up...             1      13   \n",
       "4  j.k. rowling wishes snape happy birthday in th...             0      11   \n",
       "\n",
       "                                        headline_pre  \n",
       "0  versace store clerk sue secret black code mino...  \n",
       "1  roseanne revival catch thorny political mood w...  \n",
       "2  mom start fear son web series close thing gran...  \n",
       "3  boehner want wife listen come alternative debt...  \n",
       "4  j.k rowling wish snape happy birthday magical way  "
      ]
     },
     "execution_count": 4,
     "metadata": {},
     "output_type": "execute_result"
    }
   ],
   "source": [
    "data.head()"
   ]
  },
  {
   "cell_type": "code",
   "execution_count": 5,
   "metadata": {},
   "outputs": [
    {
     "name": "stdout",
     "output_type": "stream",
     "text": [
      "former versace store clerk sues over secret 'black code' for minority shoppers\n"
     ]
    }
   ],
   "source": [
    "print(data['headline'][0])"
   ]
  },
  {
   "cell_type": "code",
   "execution_count": 6,
   "metadata": {},
   "outputs": [
    {
     "name": "stdout",
     "output_type": "stream",
     "text": [
      "versace store clerk sue secret black code minority shopper\n"
     ]
    }
   ],
   "source": [
    "print(data['headline_pre'][0])"
   ]
  },
  {
   "cell_type": "code",
   "execution_count": 7,
   "metadata": {},
   "outputs": [
    {
     "data": {
      "text/plain": [
       "headline        0\n",
       "is_sarcastic    0\n",
       "length          0\n",
       "headline_pre    6\n",
       "dtype: int64"
      ]
     },
     "execution_count": 7,
     "metadata": {},
     "output_type": "execute_result"
    }
   ],
   "source": [
    "data.isnull().sum()"
   ]
  },
  {
   "cell_type": "code",
   "execution_count": 8,
   "metadata": {},
   "outputs": [],
   "source": [
    "data = data.dropna()"
   ]
  },
  {
   "cell_type": "code",
   "execution_count": 9,
   "metadata": {},
   "outputs": [],
   "source": [
    "X = data['headline_pre']\n",
    "y = data['is_sarcastic']"
   ]
  },
  {
   "cell_type": "code",
   "execution_count": 17,
   "metadata": {},
   "outputs": [
    {
     "data": {
      "text/plain": [
       "0    29964\n",
       "1    25358\n",
       "Name: is_sarcastic, dtype: int64"
      ]
     },
     "execution_count": 17,
     "metadata": {},
     "output_type": "execute_result"
    }
   ],
   "source": [
    "pd.Series(y).value_counts()"
   ]
  },
  {
   "cell_type": "markdown",
   "metadata": {},
   "source": [
    "# Let's Build our Machine Learning Model to Classify News Headlines"
   ]
  },
  {
   "cell_type": "code",
   "execution_count": 10,
   "metadata": {},
   "outputs": [],
   "source": [
    "from sklearn.model_selection import train_test_split\n",
    "from sklearn.feature_extraction.text import TfidfVectorizer\n",
    "from sklearn.pipeline import Pipeline\n",
    "from sklearn.metrics import confusion_matrix, classification_report, f1_score"
   ]
  },
  {
   "cell_type": "code",
   "execution_count": 11,
   "metadata": {},
   "outputs": [],
   "source": [
    "def metrices(actual, predicted):\n",
    "    print('Confusion Matrix : ', confusion_matrix(actual, predicted))\n",
    "    print('Classification Report : ', classification_report(actual, predicted))"
   ]
  },
  {
   "cell_type": "code",
   "execution_count": 12,
   "metadata": {},
   "outputs": [],
   "source": [
    "xtrain, xtest, ytrain, ytest = train_test_split(X, y, random_state = 42)"
   ]
  },
  {
   "cell_type": "code",
   "execution_count": 13,
   "metadata": {},
   "outputs": [
    {
     "data": {
      "text/plain": [
       "((41491,), (13831,))"
      ]
     },
     "execution_count": 13,
     "metadata": {},
     "output_type": "execute_result"
    }
   ],
   "source": [
    "xtrain.shape, xtest.shape"
   ]
  },
  {
   "cell_type": "markdown",
   "metadata": {},
   "source": [
    "#### Multinomial Naive Bayes"
   ]
  },
  {
   "cell_type": "code",
   "execution_count": 61,
   "metadata": {},
   "outputs": [
    {
     "data": {
      "text/plain": [
       "Pipeline(memory=None,\n",
       "         steps=[('tfidf',\n",
       "                 TfidfVectorizer(analyzer='word', binary=False,\n",
       "                                 decode_error='strict',\n",
       "                                 dtype=<class 'numpy.float64'>,\n",
       "                                 encoding='utf-8', input='content',\n",
       "                                 lowercase=True, max_df=1.0, max_features=None,\n",
       "                                 min_df=1, ngram_range=(1, 1), norm='l2',\n",
       "                                 preprocessor=None, smooth_idf=True,\n",
       "                                 stop_words=None, strip_accents=None,\n",
       "                                 sublinear_tf=False,\n",
       "                                 token_pattern='(?u)\\\\b\\\\w\\\\w+\\\\b',\n",
       "                                 tokenizer=None, use_idf=True,\n",
       "                                 vocabulary=None)),\n",
       "                ('clf',\n",
       "                 MultinomialNB(alpha=1.0, class_prior=None, fit_prior=True))],\n",
       "         verbose=False)"
      ]
     },
     "execution_count": 61,
     "metadata": {},
     "output_type": "execute_result"
    }
   ],
   "source": [
    "from sklearn.naive_bayes import MultinomialNB\n",
    "\n",
    "clf1 = Pipeline([('tfidf', TfidfVectorizer()),\n",
    "                    ('clf', MultinomialNB())])\n",
    "\n",
    "clf1.fit(xtrain, ytrain)"
   ]
  },
  {
   "cell_type": "code",
   "execution_count": 62,
   "metadata": {},
   "outputs": [
    {
     "data": {
      "text/plain": [
       "(0.8950856812320744, 0.8451305039404237)"
      ]
     },
     "execution_count": 62,
     "metadata": {},
     "output_type": "execute_result"
    }
   ],
   "source": [
    "clf1.score(xtrain, ytrain), clf1.score(xtest, ytest)"
   ]
  },
  {
   "cell_type": "code",
   "execution_count": 64,
   "metadata": {},
   "outputs": [
    {
     "name": "stdout",
     "output_type": "stream",
     "text": [
      "Confusion Matrix :  [[6694  743]\n",
      " [1399 4995]]\n",
      "Classification Report :                precision    recall  f1-score   support\n",
      "\n",
      "           0       0.83      0.90      0.86      7437\n",
      "           1       0.87      0.78      0.82      6394\n",
      "\n",
      "    accuracy                           0.85     13831\n",
      "   macro avg       0.85      0.84      0.84     13831\n",
      "weighted avg       0.85      0.85      0.84     13831\n",
      "\n"
     ]
    }
   ],
   "source": [
    "metrices(ytest, clf1.predict(xtest))"
   ]
  },
  {
   "cell_type": "markdown",
   "metadata": {},
   "source": [
    "#### Linear SVC"
   ]
  },
  {
   "cell_type": "code",
   "execution_count": 65,
   "metadata": {},
   "outputs": [
    {
     "data": {
      "text/plain": [
       "Pipeline(memory=None,\n",
       "         steps=[('tfidf',\n",
       "                 TfidfVectorizer(analyzer='word', binary=False,\n",
       "                                 decode_error='strict',\n",
       "                                 dtype=<class 'numpy.float64'>,\n",
       "                                 encoding='utf-8', input='content',\n",
       "                                 lowercase=True, max_df=1.0, max_features=None,\n",
       "                                 min_df=1, ngram_range=(1, 1), norm='l2',\n",
       "                                 preprocessor=None, smooth_idf=True,\n",
       "                                 stop_words=None, strip_accents=None,\n",
       "                                 sublinear_tf=False,\n",
       "                                 token_pattern='(?u)\\\\b\\\\w\\\\w+\\\\b',\n",
       "                                 tokenizer=None, use_idf=True,\n",
       "                                 vocabulary=None)),\n",
       "                ('clf',\n",
       "                 LinearSVC(C=1.0, class_weight=None, dual=True,\n",
       "                           fit_intercept=True, intercept_scaling=1,\n",
       "                           loss='squared_hinge', max_iter=1000,\n",
       "                           multi_class='ovr', penalty='l2', random_state=None,\n",
       "                           tol=0.0001, verbose=0))],\n",
       "         verbose=False)"
      ]
     },
     "execution_count": 65,
     "metadata": {},
     "output_type": "execute_result"
    }
   ],
   "source": [
    "from sklearn.svm import LinearSVC\n",
    "\n",
    "clf2 = Pipeline([('tfidf', TfidfVectorizer()),\n",
    "                    ('clf', LinearSVC())])\n",
    "\n",
    "clf2.fit(xtrain, ytrain)"
   ]
  },
  {
   "cell_type": "code",
   "execution_count": 67,
   "metadata": {},
   "outputs": [
    {
     "data": {
      "text/plain": [
       "(0.9591236653732135, 0.8893789313860169)"
      ]
     },
     "execution_count": 67,
     "metadata": {},
     "output_type": "execute_result"
    }
   ],
   "source": [
    "clf2.score(xtrain, ytrain), clf2.score(xtest, ytest)"
   ]
  },
  {
   "cell_type": "code",
   "execution_count": 68,
   "metadata": {},
   "outputs": [
    {
     "name": "stdout",
     "output_type": "stream",
     "text": [
      "Confusion Matrix :  [[6718  719]\n",
      " [ 811 5583]]\n",
      "Classification Report :                precision    recall  f1-score   support\n",
      "\n",
      "           0       0.89      0.90      0.90      7437\n",
      "           1       0.89      0.87      0.88      6394\n",
      "\n",
      "    accuracy                           0.89     13831\n",
      "   macro avg       0.89      0.89      0.89     13831\n",
      "weighted avg       0.89      0.89      0.89     13831\n",
      "\n"
     ]
    }
   ],
   "source": [
    "metrices(ytest, clf2.predict(xtest))"
   ]
  },
  {
   "cell_type": "markdown",
   "metadata": {},
   "source": [
    "#### Random Forest Classifier"
   ]
  },
  {
   "cell_type": "code",
   "execution_count": 14,
   "metadata": {},
   "outputs": [
    {
     "data": {
      "text/plain": [
       "Pipeline(memory=None,\n",
       "         steps=[('tfidf',\n",
       "                 TfidfVectorizer(analyzer='word', binary=False,\n",
       "                                 decode_error='strict',\n",
       "                                 dtype=<class 'numpy.float64'>,\n",
       "                                 encoding='utf-8', input='content',\n",
       "                                 lowercase=True, max_df=1.0, max_features=None,\n",
       "                                 min_df=1, ngram_range=(1, 1), norm='l2',\n",
       "                                 preprocessor=None, smooth_idf=True,\n",
       "                                 stop_words=None, strip_accents=None,\n",
       "                                 sublinear_tf=False,\n",
       "                                 token_pattern='...\n",
       "                 RandomForestClassifier(bootstrap=True, class_weight=None,\n",
       "                                        criterion='gini', max_depth=None,\n",
       "                                        max_features='auto',\n",
       "                                        max_leaf_nodes=None,\n",
       "                                        min_impurity_decrease=0.0,\n",
       "                                        min_impurity_split=None,\n",
       "                                        min_samples_leaf=1, min_samples_split=2,\n",
       "                                        min_weight_fraction_leaf=0.0,\n",
       "                                        n_estimators=200, n_jobs=None,\n",
       "                                        oob_score=False, random_state=42,\n",
       "                                        verbose=0, warm_start=False))],\n",
       "         verbose=False)"
      ]
     },
     "execution_count": 14,
     "metadata": {},
     "output_type": "execute_result"
    }
   ],
   "source": [
    "from sklearn.ensemble import RandomForestClassifier\n",
    "\n",
    "clf3 = Pipeline([('tfidf', TfidfVectorizer()),\n",
    "                    ('clf', RandomForestClassifier(n_estimators = 200, random_state = 42))])\n",
    "\n",
    "clf3.fit(xtrain, ytrain)"
   ]
  },
  {
   "cell_type": "code",
   "execution_count": 15,
   "metadata": {},
   "outputs": [
    {
     "data": {
      "text/plain": [
       "(1.0, 0.9367363169691273)"
      ]
     },
     "execution_count": 15,
     "metadata": {},
     "output_type": "execute_result"
    }
   ],
   "source": [
    "clf3.score(xtrain, ytrain), clf3.score(xtest, ytest)"
   ]
  },
  {
   "cell_type": "code",
   "execution_count": 16,
   "metadata": {},
   "outputs": [
    {
     "name": "stdout",
     "output_type": "stream",
     "text": [
      "Confusion Matrix :  [[7155  282]\n",
      " [ 593 5801]]\n",
      "Classification Report :                precision    recall  f1-score   support\n",
      "\n",
      "           0       0.92      0.96      0.94      7437\n",
      "           1       0.95      0.91      0.93      6394\n",
      "\n",
      "    accuracy                           0.94     13831\n",
      "   macro avg       0.94      0.93      0.94     13831\n",
      "weighted avg       0.94      0.94      0.94     13831\n",
      "\n"
     ]
    }
   ],
   "source": [
    "metrices(ytest, clf3.predict(xtest))"
   ]
  },
  {
   "cell_type": "code",
   "execution_count": 18,
   "metadata": {},
   "outputs": [],
   "source": [
    "s = 'Cows lose their jobs as milk prices drop'"
   ]
  },
  {
   "cell_type": "code",
   "execution_count": 19,
   "metadata": {},
   "outputs": [
    {
     "data": {
      "text/plain": [
       "'Cows lose their jobs as milk prices drop'"
      ]
     },
     "execution_count": 19,
     "metadata": {},
     "output_type": "execute_result"
    }
   ],
   "source": [
    "s"
   ]
  },
  {
   "cell_type": "code",
   "execution_count": 20,
   "metadata": {},
   "outputs": [],
   "source": [
    "tokens1 = [token.lemma_ for token in nlp(s) if not token.is_punct | token.is_space | token.is_stop]"
   ]
  },
  {
   "cell_type": "code",
   "execution_count": 21,
   "metadata": {},
   "outputs": [],
   "source": [
    "a = ' '.join(tokens1)"
   ]
  },
  {
   "cell_type": "code",
   "execution_count": 22,
   "metadata": {},
   "outputs": [
    {
     "data": {
      "text/plain": [
       "['cow lose job milk price drop']"
      ]
     },
     "execution_count": 22,
     "metadata": {},
     "output_type": "execute_result"
    }
   ],
   "source": [
    "ar1 = [a]\n",
    "ar1"
   ]
  },
  {
   "cell_type": "code",
   "execution_count": 23,
   "metadata": {},
   "outputs": [],
   "source": [
    "pred = clf3.predict(ar1)"
   ]
  },
  {
   "cell_type": "code",
   "execution_count": 24,
   "metadata": {},
   "outputs": [
    {
     "data": {
      "text/plain": [
       "array([1], dtype=int64)"
      ]
     },
     "execution_count": 24,
     "metadata": {},
     "output_type": "execute_result"
    }
   ],
   "source": [
    "pred"
   ]
  },
  {
   "cell_type": "code",
   "execution_count": 25,
   "metadata": {},
   "outputs": [],
   "source": [
    "import pickle"
   ]
  },
  {
   "cell_type": "code",
   "execution_count": 26,
   "metadata": {},
   "outputs": [],
   "source": [
    "pickle.dump(clf3, open('model.pkl', 'wb'))"
   ]
  },
  {
   "cell_type": "code",
   "execution_count": 27,
   "metadata": {},
   "outputs": [
    {
     "ename": "NameError",
     "evalue": "name 'final_clf' is not defined",
     "output_type": "error",
     "traceback": [
      "\u001b[1;31m---------------------------------------------------------------------------\u001b[0m",
      "\u001b[1;31mNameError\u001b[0m                                 Traceback (most recent call last)",
      "\u001b[1;32m<ipython-input-27-12ad5b18c171>\u001b[0m in \u001b[0;36m<module>\u001b[1;34m\u001b[0m\n\u001b[1;32m----> 1\u001b[1;33m \u001b[0mp\u001b[0m \u001b[1;33m=\u001b[0m \u001b[0mfinal_clf\u001b[0m\u001b[1;33m.\u001b[0m\u001b[0mpredict\u001b[0m\u001b[1;33m(\u001b[0m\u001b[0mar1\u001b[0m\u001b[1;33m)\u001b[0m\u001b[1;33m\u001b[0m\u001b[1;33m\u001b[0m\u001b[0m\n\u001b[0m",
      "\u001b[1;31mNameError\u001b[0m: name 'final_clf' is not defined"
     ]
    }
   ],
   "source": [
    "p = final_clf.predict(ar1)"
   ]
  },
  {
   "cell_type": "code",
   "execution_count": 28,
   "metadata": {},
   "outputs": [
    {
     "ename": "NameError",
     "evalue": "name 'p' is not defined",
     "output_type": "error",
     "traceback": [
      "\u001b[1;31m---------------------------------------------------------------------------\u001b[0m",
      "\u001b[1;31mNameError\u001b[0m                                 Traceback (most recent call last)",
      "\u001b[1;32m<ipython-input-28-9c9874aa500a>\u001b[0m in \u001b[0;36m<module>\u001b[1;34m\u001b[0m\n\u001b[1;32m----> 1\u001b[1;33m \u001b[0mp\u001b[0m\u001b[1;33m[\u001b[0m\u001b[1;36m0\u001b[0m\u001b[1;33m]\u001b[0m\u001b[1;33m\u001b[0m\u001b[1;33m\u001b[0m\u001b[0m\n\u001b[0m",
      "\u001b[1;31mNameError\u001b[0m: name 'p' is not defined"
     ]
    }
   ],
   "source": [
    "p[0]"
   ]
  },
  {
   "cell_type": "code",
   "execution_count": 29,
   "metadata": {},
   "outputs": [],
   "source": [
    "import pickle"
   ]
  },
  {
   "cell_type": "code",
   "execution_count": 30,
   "metadata": {},
   "outputs": [],
   "source": [
    "clfs = pickle.load(open('model.pkl', 'rb'))"
   ]
  },
  {
   "cell_type": "code",
   "execution_count": 31,
   "metadata": {},
   "outputs": [
    {
     "data": {
      "text/plain": [
       "array([1], dtype=int64)"
      ]
     },
     "execution_count": 31,
     "metadata": {},
     "output_type": "execute_result"
    }
   ],
   "source": [
    "clfs.predict(ar1)"
   ]
  },
  {
   "cell_type": "code",
   "execution_count": null,
   "metadata": {},
   "outputs": [],
   "source": []
  }
 ],
 "metadata": {
  "kernelspec": {
   "display_name": "Python 3",
   "language": "python",
   "name": "python3"
  },
  "language_info": {
   "codemirror_mode": {
    "name": "ipython",
    "version": 3
   },
   "file_extension": ".py",
   "mimetype": "text/x-python",
   "name": "python",
   "nbconvert_exporter": "python",
   "pygments_lexer": "ipython3",
   "version": "3.7.1"
  }
 },
 "nbformat": 4,
 "nbformat_minor": 2
}
